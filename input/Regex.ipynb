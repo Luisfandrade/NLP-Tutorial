{
 "cells": [
  {
   "cell_type": "markdown",
   "metadata": {},
   "source": [
    "## Regular Expression (RegEx)\n",
    "[Regular expression](https://en.wikipedia.org/wiki/Regular_expression) - expression used to specify a set of strings required for a particular purpose\n",
    "* Often called pattern\n",
    "\n",
    "Here is a quick cheat sheet for various rules in regular expressions:\n",
    "\n",
    "#### Identifiers:\n",
    "\n",
    "* \\d = any number\n",
    "* \\D = anything but a number\n",
    "* \\s = space\n",
    "* \\S = anything but a space\n",
    "* \\w = any letter\n",
    "* \\W = anything but a letter\n",
    "* . = any character, except for a new line\n",
    "* \\b = space around whole words\n",
    "* \\. = period. must use backslash, because . normally means any character.\n",
    "\n",
    "#### Modifiers:\n",
    "\n",
    "* {1,3} = for digits, u expect 1-3 counts of digits, or \"places\"\n",
    "* \\+ = match 1 or more\n",
    "* \\? = match 0 or 1 repetitions.\n",
    "* \\* = match 0 or MORE repetitions\n",
    "* \\$ = matches at the end of string\n",
    "* \\^ = matches start of a string\n",
    "* | = matches either/or. Example x|y = will match either x or y\n",
    "* [] = range, or \"variance\"\n",
    "* {x} = expect to see this amount of the preceding code.\n",
    "* {x,y} = expect to see this x-y amounts of the precedng code\n",
    "\n",
    "#### White Space Charts:\n",
    "\n",
    "* \\n = new line\n",
    "* \\s = space\n",
    "* \\t = tab\n",
    "* \\e = escape\n",
    "* \\f = form feed\n",
    "* \\r = carriage return"
   ]
  },
  {
   "cell_type": "code",
   "execution_count": null,
   "metadata": {
    "collapsed": true
   },
   "outputs": [],
   "source": []
  }
 ],
 "metadata": {
  "anaconda-cloud": {},
  "kernelspec": {
   "display_name": "Python [Anaconda3]",
   "language": "python",
   "name": "Python [Anaconda3]"
  },
  "language_info": {
   "codemirror_mode": {
    "name": "ipython",
    "version": 3
   },
   "file_extension": ".py",
   "mimetype": "text/x-python",
   "name": "python",
   "nbconvert_exporter": "python",
   "pygments_lexer": "ipython3",
   "version": "3.5.2"
  }
 },
 "nbformat": 4,
 "nbformat_minor": 0
}
